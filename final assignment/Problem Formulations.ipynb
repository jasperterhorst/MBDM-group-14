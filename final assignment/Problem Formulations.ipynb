{
 "cells": [
  {
   "cell_type": "code",
   "execution_count": 1,
   "metadata": {
    "ExecuteTime": {
     "end_time": "2024-05-28T09:16:20.778943600Z",
     "start_time": "2024-05-28T09:16:20.215789600Z"
    }
   },
   "outputs": [],
   "source": [
    "import numpy as np\n",
    "import scipy as sp\n",
    "import pandas as pd\n",
    "import matplotlib.pyplot as plt\n",
    "import seaborn as sns\n",
    "import networkx as nx"
   ]
  },
  {
   "cell_type": "code",
   "execution_count": 2,
   "metadata": {
    "ExecuteTime": {
     "end_time": "2024-05-28T09:16:20.790622300Z",
     "start_time": "2024-05-28T09:16:20.782944700Z"
    }
   },
   "outputs": [
    {
     "name": "stdout",
     "output_type": "stream",
     "text": [
      "2.2.2\n",
      "3.3\n"
     ]
    }
   ],
   "source": [
    "# make sure pandas is version 1.0 or higher\n",
    "# make sure networkx is verion 2.4 or higher\n",
    "print(pd.__version__)\n",
    "print(nx.__version__)"
   ]
  },
  {
   "cell_type": "code",
   "execution_count": 3,
   "metadata": {
    "scrolled": true,
    "ExecuteTime": {
     "end_time": "2024-05-28T09:16:26.944459800Z",
     "start_time": "2024-05-28T09:16:20.793625900Z"
    }
   },
   "outputs": [],
   "source": [
    "from ema_workbench import (\n",
    "    Model,\n",
    "    Policy,\n",
    "    ema_logging,\n",
    "    SequentialEvaluator,\n",
    "    MultiprocessingEvaluator,\n",
    ")\n",
    "from dike_model_function import DikeNetwork  # @UnresolvedImport\n",
    "from problem_formulation import get_model_for_problem_formulation, sum_over, sum_over_time\n",
    "\n"
   ]
  },
  {
   "cell_type": "code",
   "execution_count": 4,
   "metadata": {
    "ExecuteTime": {
     "end_time": "2024-05-28T09:16:28.014771600Z",
     "start_time": "2024-05-28T09:16:26.945494200Z"
    }
   },
   "outputs": [],
   "source": [
    "ema_logging.log_to_stderr(ema_logging.INFO)\n",
    "\n",
    "# choose problem formulation number, between 0-5\n",
    "# each problem formulation has its own list of outcomes\n",
    "dike_model, planning_steps = get_model_for_problem_formulation(3)"
   ]
  },
  {
   "cell_type": "code",
   "execution_count": 5,
   "metadata": {
    "ExecuteTime": {
     "end_time": "2024-05-28T09:16:28.106688Z",
     "start_time": "2024-05-28T09:16:28.017802500Z"
    }
   },
   "outputs": [
    {
     "name": "stdout",
     "output_type": "stream",
     "text": [
      "CategoricalParameter('discount rate 0', [0, 1, 2, 3])\n",
      "CategoricalParameter('discount rate 1', [0, 1, 2, 3])\n",
      "CategoricalParameter('discount rate 2', [0, 1, 2, 3])\n",
      "IntegerParameter('A.0_ID flood wave shape', 0, 132, resolution=None, default=None, variable_name=['A.0_ID flood wave shape'], pff=False)\n",
      "RealParameter('A.1_Bmax', 30, 350, resolution=None, default=None, variable_name=['A.1_Bmax'], pff=False)\n",
      "RealParameter('A.1_pfail', 0, 1, resolution=None, default=None, variable_name=['A.1_pfail'], pff=False)\n",
      "CategoricalParameter('A.1_Brate', [0, 1, 2])\n",
      "RealParameter('A.2_Bmax', 30, 350, resolution=None, default=None, variable_name=['A.2_Bmax'], pff=False)\n",
      "RealParameter('A.2_pfail', 0, 1, resolution=None, default=None, variable_name=['A.2_pfail'], pff=False)\n",
      "CategoricalParameter('A.2_Brate', [0, 1, 2])\n",
      "RealParameter('A.3_Bmax', 30, 350, resolution=None, default=None, variable_name=['A.3_Bmax'], pff=False)\n",
      "RealParameter('A.3_pfail', 0, 1, resolution=None, default=None, variable_name=['A.3_pfail'], pff=False)\n",
      "CategoricalParameter('A.3_Brate', [0, 1, 2])\n",
      "RealParameter('A.4_Bmax', 30, 350, resolution=None, default=None, variable_name=['A.4_Bmax'], pff=False)\n",
      "RealParameter('A.4_pfail', 0, 1, resolution=None, default=None, variable_name=['A.4_pfail'], pff=False)\n",
      "CategoricalParameter('A.4_Brate', [0, 1, 2])\n",
      "RealParameter('A.5_Bmax', 30, 350, resolution=None, default=None, variable_name=['A.5_Bmax'], pff=False)\n",
      "RealParameter('A.5_pfail', 0, 1, resolution=None, default=None, variable_name=['A.5_pfail'], pff=False)\n",
      "CategoricalParameter('A.5_Brate', [0, 1, 2])\n"
     ]
    }
   ],
   "source": [
    "# enlisting uncertainties, their types (RealParameter/IntegerParameter/CategoricalParameter), lower boundary, and upper boundary\n",
    "import copy\n",
    "\n",
    "for unc in dike_model.uncertainties:\n",
    "    print(repr(unc))\n",
    "\n",
    "uncertainties = copy.deepcopy(dike_model.uncertainties)"
   ]
  },
  {
   "cell_type": "code",
   "outputs": [
    {
     "name": "stdout",
     "output_type": "stream",
     "text": [
      "CategoricalParameter('discount rate 0', <ema_workbench.em_framework.util.NamedObjectMap object at 0x000001A099EB3350>)\n",
      "CategoricalParameter('discount rate 1', <ema_workbench.em_framework.util.NamedObjectMap object at 0x000001A099EB3510>)\n",
      "CategoricalParameter('discount rate 2', <ema_workbench.em_framework.util.NamedObjectMap object at 0x000001A099EB2ED0>)\n",
      "IntegerParameter('A.0_ID flood wave shape', 0, 132)\n",
      "RealParameter('A.1_Bmax', 30, 350)\n",
      "RealParameter('A.1_pfail', 0, 1)\n",
      "CategoricalParameter('A.1_Brate', <ema_workbench.em_framework.util.NamedObjectMap object at 0x000001A099E8C650>)\n",
      "RealParameter('A.2_Bmax', 30, 350)\n",
      "RealParameter('A.2_pfail', 0, 1)\n",
      "CategoricalParameter('A.2_Brate', <ema_workbench.em_framework.util.NamedObjectMap object at 0x000001A099F466D0>)\n",
      "RealParameter('A.3_Bmax', 30, 350)\n",
      "RealParameter('A.3_pfail', 0, 1)\n",
      "CategoricalParameter('A.3_Brate', <ema_workbench.em_framework.util.NamedObjectMap object at 0x000001A099ED1E50>)\n",
      "RealParameter('A.4_Bmax', 30, 350)\n",
      "RealParameter('A.4_pfail', 0, 1)\n",
      "CategoricalParameter('A.4_Brate', <ema_workbench.em_framework.util.NamedObjectMap object at 0x000001A099EEB490>)\n",
      "RealParameter('A.5_Bmax', 30, 350)\n",
      "RealParameter('A.5_pfail', 0, 1)\n",
      "CategoricalParameter('A.5_Brate', <ema_workbench.em_framework.util.NamedObjectMap object at 0x000001A099F11710>)\n"
     ]
    }
   ],
   "source": [
    "import copy\n",
    "from ema_workbench import CategoricalParameter, RealParameter, IntegerParameter\n",
    "\n",
    "# Improved printing of uncertainties\n",
    "for unc in dike_model.uncertainties:\n",
    "    if isinstance(unc, CategoricalParameter):\n",
    "        print(f\"CategoricalParameter('{unc.name}', {unc.categories})\")\n",
    "    elif isinstance(unc, RealParameter):\n",
    "        print(f\"RealParameter('{unc.name}', {unc.lower_bound}, {unc.upper_bound})\")\n",
    "    elif isinstance(unc, IntegerParameter):\n",
    "        print(f\"IntegerParameter('{unc.name}', {unc.lower_bound}, {unc.upper_bound})\")\n",
    "\n",
    "# Create a deep copy of the uncertainties list from the dike_model\n",
    "uncertainties = copy.deepcopy(dike_model.uncertainties)\n"
   ],
   "metadata": {
    "collapsed": false,
    "ExecuteTime": {
     "end_time": "2024-05-28T09:16:28.488543500Z",
     "start_time": "2024-05-28T09:16:28.111706300Z"
    }
   },
   "execution_count": 6
  },
  {
   "cell_type": "code",
   "execution_count": 7,
   "metadata": {
    "ExecuteTime": {
     "end_time": "2024-05-28T09:16:28.699506200Z",
     "start_time": "2024-05-28T09:16:28.484545800Z"
    }
   },
   "outputs": [
    {
     "name": "stdout",
     "output_type": "stream",
     "text": [
      "IntegerParameter('0_RfR 0', 0, 1, resolution=None, default=None, variable_name=['0_RfR 0'], pff=False)\n",
      "IntegerParameter('0_RfR 1', 0, 1, resolution=None, default=None, variable_name=['0_RfR 1'], pff=False)\n",
      "IntegerParameter('0_RfR 2', 0, 1, resolution=None, default=None, variable_name=['0_RfR 2'], pff=False)\n",
      "IntegerParameter('1_RfR 0', 0, 1, resolution=None, default=None, variable_name=['1_RfR 0'], pff=False)\n",
      "IntegerParameter('1_RfR 1', 0, 1, resolution=None, default=None, variable_name=['1_RfR 1'], pff=False)\n",
      "IntegerParameter('1_RfR 2', 0, 1, resolution=None, default=None, variable_name=['1_RfR 2'], pff=False)\n",
      "IntegerParameter('2_RfR 0', 0, 1, resolution=None, default=None, variable_name=['2_RfR 0'], pff=False)\n",
      "IntegerParameter('2_RfR 1', 0, 1, resolution=None, default=None, variable_name=['2_RfR 1'], pff=False)\n",
      "IntegerParameter('2_RfR 2', 0, 1, resolution=None, default=None, variable_name=['2_RfR 2'], pff=False)\n",
      "IntegerParameter('3_RfR 0', 0, 1, resolution=None, default=None, variable_name=['3_RfR 0'], pff=False)\n",
      "IntegerParameter('3_RfR 1', 0, 1, resolution=None, default=None, variable_name=['3_RfR 1'], pff=False)\n",
      "IntegerParameter('3_RfR 2', 0, 1, resolution=None, default=None, variable_name=['3_RfR 2'], pff=False)\n",
      "IntegerParameter('4_RfR 0', 0, 1, resolution=None, default=None, variable_name=['4_RfR 0'], pff=False)\n",
      "IntegerParameter('4_RfR 1', 0, 1, resolution=None, default=None, variable_name=['4_RfR 1'], pff=False)\n",
      "IntegerParameter('4_RfR 2', 0, 1, resolution=None, default=None, variable_name=['4_RfR 2'], pff=False)\n",
      "IntegerParameter('EWS_DaysToThreat', 0, 4, resolution=None, default=None, variable_name=['EWS_DaysToThreat'], pff=False)\n",
      "IntegerParameter('A.1_DikeIncrease 0', 0, 10, resolution=None, default=None, variable_name=['A.1_DikeIncrease 0'], pff=False)\n",
      "IntegerParameter('A.1_DikeIncrease 1', 0, 10, resolution=None, default=None, variable_name=['A.1_DikeIncrease 1'], pff=False)\n",
      "IntegerParameter('A.1_DikeIncrease 2', 0, 10, resolution=None, default=None, variable_name=['A.1_DikeIncrease 2'], pff=False)\n",
      "IntegerParameter('A.2_DikeIncrease 0', 0, 10, resolution=None, default=None, variable_name=['A.2_DikeIncrease 0'], pff=False)\n",
      "IntegerParameter('A.2_DikeIncrease 1', 0, 10, resolution=None, default=None, variable_name=['A.2_DikeIncrease 1'], pff=False)\n",
      "IntegerParameter('A.2_DikeIncrease 2', 0, 10, resolution=None, default=None, variable_name=['A.2_DikeIncrease 2'], pff=False)\n",
      "IntegerParameter('A.3_DikeIncrease 0', 0, 10, resolution=None, default=None, variable_name=['A.3_DikeIncrease 0'], pff=False)\n",
      "IntegerParameter('A.3_DikeIncrease 1', 0, 10, resolution=None, default=None, variable_name=['A.3_DikeIncrease 1'], pff=False)\n",
      "IntegerParameter('A.3_DikeIncrease 2', 0, 10, resolution=None, default=None, variable_name=['A.3_DikeIncrease 2'], pff=False)\n",
      "IntegerParameter('A.4_DikeIncrease 0', 0, 10, resolution=None, default=None, variable_name=['A.4_DikeIncrease 0'], pff=False)\n",
      "IntegerParameter('A.4_DikeIncrease 1', 0, 10, resolution=None, default=None, variable_name=['A.4_DikeIncrease 1'], pff=False)\n",
      "IntegerParameter('A.4_DikeIncrease 2', 0, 10, resolution=None, default=None, variable_name=['A.4_DikeIncrease 2'], pff=False)\n",
      "IntegerParameter('A.5_DikeIncrease 0', 0, 10, resolution=None, default=None, variable_name=['A.5_DikeIncrease 0'], pff=False)\n",
      "IntegerParameter('A.5_DikeIncrease 1', 0, 10, resolution=None, default=None, variable_name=['A.5_DikeIncrease 1'], pff=False)\n",
      "IntegerParameter('A.5_DikeIncrease 2', 0, 10, resolution=None, default=None, variable_name=['A.5_DikeIncrease 2'], pff=False)\n"
     ]
    }
   ],
   "source": [
    "# enlisting policy levers, their types (RealParameter/IntegerParameter), lower boundary, and upper boundary\n",
    "for policy in dike_model.levers:\n",
    "    print(repr(policy))\n",
    "\n",
    "levers = copy.deepcopy(dike_model.levers)"
   ]
  },
  {
   "cell_type": "code",
   "outputs": [
    {
     "name": "stdout",
     "output_type": "stream",
     "text": [
      "IntegerParameter('0_RfR 0', 0, 1)\n",
      "IntegerParameter('0_RfR 1', 0, 1)\n",
      "IntegerParameter('0_RfR 2', 0, 1)\n",
      "IntegerParameter('1_RfR 0', 0, 1)\n",
      "IntegerParameter('1_RfR 1', 0, 1)\n",
      "IntegerParameter('1_RfR 2', 0, 1)\n",
      "IntegerParameter('2_RfR 0', 0, 1)\n",
      "IntegerParameter('2_RfR 1', 0, 1)\n",
      "IntegerParameter('2_RfR 2', 0, 1)\n",
      "IntegerParameter('3_RfR 0', 0, 1)\n",
      "IntegerParameter('3_RfR 1', 0, 1)\n",
      "IntegerParameter('3_RfR 2', 0, 1)\n",
      "IntegerParameter('4_RfR 0', 0, 1)\n",
      "IntegerParameter('4_RfR 1', 0, 1)\n",
      "IntegerParameter('4_RfR 2', 0, 1)\n",
      "IntegerParameter('EWS_DaysToThreat', 0, 4)\n",
      "IntegerParameter('A.1_DikeIncrease 0', 0, 10)\n",
      "IntegerParameter('A.1_DikeIncrease 1', 0, 10)\n",
      "IntegerParameter('A.1_DikeIncrease 2', 0, 10)\n",
      "IntegerParameter('A.2_DikeIncrease 0', 0, 10)\n",
      "IntegerParameter('A.2_DikeIncrease 1', 0, 10)\n",
      "IntegerParameter('A.2_DikeIncrease 2', 0, 10)\n",
      "IntegerParameter('A.3_DikeIncrease 0', 0, 10)\n",
      "IntegerParameter('A.3_DikeIncrease 1', 0, 10)\n",
      "IntegerParameter('A.3_DikeIncrease 2', 0, 10)\n",
      "IntegerParameter('A.4_DikeIncrease 0', 0, 10)\n",
      "IntegerParameter('A.4_DikeIncrease 1', 0, 10)\n",
      "IntegerParameter('A.4_DikeIncrease 2', 0, 10)\n",
      "IntegerParameter('A.5_DikeIncrease 0', 0, 10)\n",
      "IntegerParameter('A.5_DikeIncrease 1', 0, 10)\n",
      "IntegerParameter('A.5_DikeIncrease 2', 0, 10)\n"
     ]
    }
   ],
   "source": [
    "# Improved printing of policy levers\n",
    "from ema_workbench import RealParameter, IntegerParameter\n",
    "\n",
    "# Improved printing of policy levers\n",
    "for policy in dike_model.levers:\n",
    "    if isinstance(policy, RealParameter):\n",
    "        print(f\"RealParameter('{policy.name}', {policy.lower_bound}, {policy.upper_bound})\")\n",
    "    elif isinstance(policy, IntegerParameter):\n",
    "        print(f\"IntegerParameter('{policy.name}', {policy.lower_bound}, {policy.upper_bound})\")\n",
    "    else:\n",
    "        print(repr(policy))\n",
    "\n",
    "# Create a deep copy of the policy levers list from the dike_model\n",
    "levers = copy.deepcopy(dike_model.levers)\n"
   ],
   "metadata": {
    "collapsed": false,
    "ExecuteTime": {
     "end_time": "2024-05-28T09:16:28.792437Z",
     "start_time": "2024-05-28T09:16:28.697444900Z"
    }
   },
   "execution_count": 8
  },
  {
   "cell_type": "code",
   "execution_count": 9,
   "metadata": {
    "ExecuteTime": {
     "end_time": "2024-05-28T09:16:28.839466300Z",
     "start_time": "2024-05-28T09:16:28.791437200Z"
    }
   },
   "outputs": [
    {
     "name": "stdout",
     "output_type": "stream",
     "text": [
      "ScalarOutcome('A.1 Total Costs', variable_name=('A.1_Expected Annual Damage', 'A.1_Dike Investment Costs'), function=<function sum_over at 0x000001A09986EF20>)\n",
      "ScalarOutcome('A.1_Expected Number of Deaths', variable_name=('A.1_Expected Number of Deaths',), function=<function sum_over at 0x000001A09986EF20>)\n",
      "ScalarOutcome('A.2 Total Costs', variable_name=('A.2_Expected Annual Damage', 'A.2_Dike Investment Costs'), function=<function sum_over at 0x000001A09986EF20>)\n",
      "ScalarOutcome('A.2_Expected Number of Deaths', variable_name=('A.2_Expected Number of Deaths',), function=<function sum_over at 0x000001A09986EF20>)\n",
      "ScalarOutcome('A.3 Total Costs', variable_name=('A.3_Expected Annual Damage', 'A.3_Dike Investment Costs'), function=<function sum_over at 0x000001A09986EF20>)\n",
      "ScalarOutcome('A.3_Expected Number of Deaths', variable_name=('A.3_Expected Number of Deaths',), function=<function sum_over at 0x000001A09986EF20>)\n",
      "ScalarOutcome('A.4 Total Costs', variable_name=('A.4_Expected Annual Damage', 'A.4_Dike Investment Costs'), function=<function sum_over at 0x000001A09986EF20>)\n",
      "ScalarOutcome('A.4_Expected Number of Deaths', variable_name=('A.4_Expected Number of Deaths',), function=<function sum_over at 0x000001A09986EF20>)\n",
      "ScalarOutcome('A.5 Total Costs', variable_name=('A.5_Expected Annual Damage', 'A.5_Dike Investment Costs'), function=<function sum_over at 0x000001A09986EF20>)\n",
      "ScalarOutcome('A.5_Expected Number of Deaths', variable_name=('A.5_Expected Number of Deaths',), function=<function sum_over at 0x000001A09986EF20>)\n",
      "ScalarOutcome('RfR Total Costs', variable_name=('RfR Total Costs',), function=<function sum_over at 0x000001A09986EF20>)\n",
      "ScalarOutcome('Expected Evacuation Costs', variable_name=('Expected Evacuation Costs',), function=<function sum_over at 0x000001A09986EF20>)\n"
     ]
    }
   ],
   "source": [
    "# enlisting outcomes\n",
    "for outcome in dike_model.outcomes:\n",
    "    print(repr(outcome))"
   ]
  },
  {
   "cell_type": "code",
   "execution_count": 10,
   "metadata": {
    "ExecuteTime": {
     "end_time": "2024-05-28T09:16:44.434620700Z",
     "start_time": "2024-05-28T09:16:28.841990Z"
    }
   },
   "outputs": [
    {
     "name": "stderr",
     "output_type": "stream",
     "text": [
      "[MainProcess/INFO] performing 5 scenarios * 2 policies * 1 model(s) = 10 experiments\n",
      "  0%|                                                   | 0/10 [00:00<?, ?it/s][MainProcess/INFO] performing experiments sequentially\n",
      "100%|██████████████████████████████████████████| 10/10 [00:15<00:00,  1.54s/it]\n",
      "[MainProcess/INFO] experiments finished\n"
     ]
    }
   ],
   "source": [
    "# running the model through EMA workbench\n",
    "with SequentialEvaluator(dike_model) as evaluator:\n",
    "    results = evaluator.perform_experiments(scenarios=5, policies=2)"
   ]
  },
  {
   "cell_type": "code",
   "execution_count": 11,
   "metadata": {
    "scrolled": true,
    "ExecuteTime": {
     "end_time": "2024-05-28T09:16:44.508706300Z",
     "start_time": "2024-05-28T09:16:44.437616300Z"
    }
   },
   "outputs": [
    {
     "name": "stdout",
     "output_type": "stream",
     "text": [
      "dict_keys(['A.1 Total Costs', 'A.1_Expected Number of Deaths', 'A.2 Total Costs', 'A.2_Expected Number of Deaths', 'A.3 Total Costs', 'A.3_Expected Number of Deaths', 'A.4 Total Costs', 'A.4_Expected Number of Deaths', 'A.5 Total Costs', 'A.5_Expected Number of Deaths', 'RfR Total Costs', 'Expected Evacuation Costs'])\n"
     ]
    },
    {
     "data": {
      "text/plain": "   A.0_ID flood wave shape    A.1_Bmax A.1_Brate  A.1_pfail    A.2_Bmax  \\\n0                       89  217.257807       1.0   0.182317  347.315315   \n1                        6  247.473112       1.0   0.911808  157.679465   \n2                       57   72.345220       1.5   0.671985  165.403850   \n3                       37  337.268694      10.0   0.518056  285.283428   \n4                      132  110.701718       1.5   0.211085   91.226218   \n5                       89  217.257807       1.0   0.182317  347.315315   \n6                        6  247.473112       1.0   0.911808  157.679465   \n7                       57   72.345220       1.5   0.671985  165.403850   \n8                       37  337.268694      10.0   0.518056  285.283428   \n9                      132  110.701718       1.5   0.211085   91.226218   \n\n  A.2_Brate  A.2_pfail    A.3_Bmax A.3_Brate  A.3_pfail  ...  \\\n0       1.0   0.099687  129.206199       1.0   0.136083  ...   \n1      10.0   0.810237  326.310809       1.5   0.929731  ...   \n2      10.0   0.725240  233.534181       1.5   0.669553  ...   \n3       1.5   0.258063  193.595410      10.0   0.471850  ...   \n4       1.0   0.502263   45.090504       1.5   0.287665  ...   \n5       1.0   0.099687  129.206199       1.0   0.136083  ...   \n6      10.0   0.810237  326.310809       1.5   0.929731  ...   \n7      10.0   0.725240  233.534181       1.5   0.669553  ...   \n8       1.5   0.258063  193.595410      10.0   0.471850  ...   \n9       1.0   0.502263   45.090504       1.5   0.287665  ...   \n\n   A.4_DikeIncrease 0 A.4_DikeIncrease 1  A.4_DikeIncrease 2  \\\n0                  10                  2                   2   \n1                  10                  2                   2   \n2                  10                  2                   2   \n3                  10                  2                   2   \n4                  10                  2                   2   \n5                   5                  8                   5   \n6                   5                  8                   5   \n7                   5                  8                   5   \n8                   5                  8                   5   \n9                   5                  8                   5   \n\n   A.5_DikeIncrease 0 A.5_DikeIncrease 1  A.5_DikeIncrease 2 EWS_DaysToThreat  \\\n0                   0                  3                  10                0   \n1                   0                  3                  10                0   \n2                   0                  3                  10                0   \n3                   0                  3                  10                0   \n4                   0                  3                  10                0   \n5                  10                  6                   1                4   \n6                  10                  6                   1                4   \n7                  10                  6                   1                4   \n8                  10                  6                   1                4   \n9                  10                  6                   1                4   \n\n  scenario policy     model  \n0        2      0  dikesnet  \n1        3      0  dikesnet  \n2        4      0  dikesnet  \n3        5      0  dikesnet  \n4        6      0  dikesnet  \n5        2      1  dikesnet  \n6        3      1  dikesnet  \n7        4      1  dikesnet  \n8        5      1  dikesnet  \n9        6      1  dikesnet  \n\n[10 rows x 53 columns]",
      "text/html": "<div>\n<style scoped>\n    .dataframe tbody tr th:only-of-type {\n        vertical-align: middle;\n    }\n\n    .dataframe tbody tr th {\n        vertical-align: top;\n    }\n\n    .dataframe thead th {\n        text-align: right;\n    }\n</style>\n<table border=\"1\" class=\"dataframe\">\n  <thead>\n    <tr style=\"text-align: right;\">\n      <th></th>\n      <th>A.0_ID flood wave shape</th>\n      <th>A.1_Bmax</th>\n      <th>A.1_Brate</th>\n      <th>A.1_pfail</th>\n      <th>A.2_Bmax</th>\n      <th>A.2_Brate</th>\n      <th>A.2_pfail</th>\n      <th>A.3_Bmax</th>\n      <th>A.3_Brate</th>\n      <th>A.3_pfail</th>\n      <th>...</th>\n      <th>A.4_DikeIncrease 0</th>\n      <th>A.4_DikeIncrease 1</th>\n      <th>A.4_DikeIncrease 2</th>\n      <th>A.5_DikeIncrease 0</th>\n      <th>A.5_DikeIncrease 1</th>\n      <th>A.5_DikeIncrease 2</th>\n      <th>EWS_DaysToThreat</th>\n      <th>scenario</th>\n      <th>policy</th>\n      <th>model</th>\n    </tr>\n  </thead>\n  <tbody>\n    <tr>\n      <th>0</th>\n      <td>89</td>\n      <td>217.257807</td>\n      <td>1.0</td>\n      <td>0.182317</td>\n      <td>347.315315</td>\n      <td>1.0</td>\n      <td>0.099687</td>\n      <td>129.206199</td>\n      <td>1.0</td>\n      <td>0.136083</td>\n      <td>...</td>\n      <td>10</td>\n      <td>2</td>\n      <td>2</td>\n      <td>0</td>\n      <td>3</td>\n      <td>10</td>\n      <td>0</td>\n      <td>2</td>\n      <td>0</td>\n      <td>dikesnet</td>\n    </tr>\n    <tr>\n      <th>1</th>\n      <td>6</td>\n      <td>247.473112</td>\n      <td>1.0</td>\n      <td>0.911808</td>\n      <td>157.679465</td>\n      <td>10.0</td>\n      <td>0.810237</td>\n      <td>326.310809</td>\n      <td>1.5</td>\n      <td>0.929731</td>\n      <td>...</td>\n      <td>10</td>\n      <td>2</td>\n      <td>2</td>\n      <td>0</td>\n      <td>3</td>\n      <td>10</td>\n      <td>0</td>\n      <td>3</td>\n      <td>0</td>\n      <td>dikesnet</td>\n    </tr>\n    <tr>\n      <th>2</th>\n      <td>57</td>\n      <td>72.345220</td>\n      <td>1.5</td>\n      <td>0.671985</td>\n      <td>165.403850</td>\n      <td>10.0</td>\n      <td>0.725240</td>\n      <td>233.534181</td>\n      <td>1.5</td>\n      <td>0.669553</td>\n      <td>...</td>\n      <td>10</td>\n      <td>2</td>\n      <td>2</td>\n      <td>0</td>\n      <td>3</td>\n      <td>10</td>\n      <td>0</td>\n      <td>4</td>\n      <td>0</td>\n      <td>dikesnet</td>\n    </tr>\n    <tr>\n      <th>3</th>\n      <td>37</td>\n      <td>337.268694</td>\n      <td>10.0</td>\n      <td>0.518056</td>\n      <td>285.283428</td>\n      <td>1.5</td>\n      <td>0.258063</td>\n      <td>193.595410</td>\n      <td>10.0</td>\n      <td>0.471850</td>\n      <td>...</td>\n      <td>10</td>\n      <td>2</td>\n      <td>2</td>\n      <td>0</td>\n      <td>3</td>\n      <td>10</td>\n      <td>0</td>\n      <td>5</td>\n      <td>0</td>\n      <td>dikesnet</td>\n    </tr>\n    <tr>\n      <th>4</th>\n      <td>132</td>\n      <td>110.701718</td>\n      <td>1.5</td>\n      <td>0.211085</td>\n      <td>91.226218</td>\n      <td>1.0</td>\n      <td>0.502263</td>\n      <td>45.090504</td>\n      <td>1.5</td>\n      <td>0.287665</td>\n      <td>...</td>\n      <td>10</td>\n      <td>2</td>\n      <td>2</td>\n      <td>0</td>\n      <td>3</td>\n      <td>10</td>\n      <td>0</td>\n      <td>6</td>\n      <td>0</td>\n      <td>dikesnet</td>\n    </tr>\n    <tr>\n      <th>5</th>\n      <td>89</td>\n      <td>217.257807</td>\n      <td>1.0</td>\n      <td>0.182317</td>\n      <td>347.315315</td>\n      <td>1.0</td>\n      <td>0.099687</td>\n      <td>129.206199</td>\n      <td>1.0</td>\n      <td>0.136083</td>\n      <td>...</td>\n      <td>5</td>\n      <td>8</td>\n      <td>5</td>\n      <td>10</td>\n      <td>6</td>\n      <td>1</td>\n      <td>4</td>\n      <td>2</td>\n      <td>1</td>\n      <td>dikesnet</td>\n    </tr>\n    <tr>\n      <th>6</th>\n      <td>6</td>\n      <td>247.473112</td>\n      <td>1.0</td>\n      <td>0.911808</td>\n      <td>157.679465</td>\n      <td>10.0</td>\n      <td>0.810237</td>\n      <td>326.310809</td>\n      <td>1.5</td>\n      <td>0.929731</td>\n      <td>...</td>\n      <td>5</td>\n      <td>8</td>\n      <td>5</td>\n      <td>10</td>\n      <td>6</td>\n      <td>1</td>\n      <td>4</td>\n      <td>3</td>\n      <td>1</td>\n      <td>dikesnet</td>\n    </tr>\n    <tr>\n      <th>7</th>\n      <td>57</td>\n      <td>72.345220</td>\n      <td>1.5</td>\n      <td>0.671985</td>\n      <td>165.403850</td>\n      <td>10.0</td>\n      <td>0.725240</td>\n      <td>233.534181</td>\n      <td>1.5</td>\n      <td>0.669553</td>\n      <td>...</td>\n      <td>5</td>\n      <td>8</td>\n      <td>5</td>\n      <td>10</td>\n      <td>6</td>\n      <td>1</td>\n      <td>4</td>\n      <td>4</td>\n      <td>1</td>\n      <td>dikesnet</td>\n    </tr>\n    <tr>\n      <th>8</th>\n      <td>37</td>\n      <td>337.268694</td>\n      <td>10.0</td>\n      <td>0.518056</td>\n      <td>285.283428</td>\n      <td>1.5</td>\n      <td>0.258063</td>\n      <td>193.595410</td>\n      <td>10.0</td>\n      <td>0.471850</td>\n      <td>...</td>\n      <td>5</td>\n      <td>8</td>\n      <td>5</td>\n      <td>10</td>\n      <td>6</td>\n      <td>1</td>\n      <td>4</td>\n      <td>5</td>\n      <td>1</td>\n      <td>dikesnet</td>\n    </tr>\n    <tr>\n      <th>9</th>\n      <td>132</td>\n      <td>110.701718</td>\n      <td>1.5</td>\n      <td>0.211085</td>\n      <td>91.226218</td>\n      <td>1.0</td>\n      <td>0.502263</td>\n      <td>45.090504</td>\n      <td>1.5</td>\n      <td>0.287665</td>\n      <td>...</td>\n      <td>5</td>\n      <td>8</td>\n      <td>5</td>\n      <td>10</td>\n      <td>6</td>\n      <td>1</td>\n      <td>4</td>\n      <td>6</td>\n      <td>1</td>\n      <td>dikesnet</td>\n    </tr>\n  </tbody>\n</table>\n<p>10 rows × 53 columns</p>\n</div>"
     },
     "execution_count": 11,
     "metadata": {},
     "output_type": "execute_result"
    }
   ],
   "source": [
    "# observing the simulation runs\n",
    "experiments, outcomes = results\n",
    "print(outcomes.keys())\n",
    "experiments"
   ]
  },
  {
   "cell_type": "code",
   "execution_count": 12,
   "metadata": {
    "ExecuteTime": {
     "end_time": "2024-05-28T09:16:44.578752800Z",
     "start_time": "2024-05-28T09:16:44.507706600Z"
    }
   },
   "outputs": [
    {
     "data": {
      "text/plain": "   A.1 Total Costs  A.1_Expected Number of Deaths  A.2 Total Costs  \\\n0     2.498620e+08                       0.000000     2.902942e+08   \n1     2.498620e+08                       0.000000     1.651899e+08   \n2     2.498620e+08                       0.000000     1.671835e+08   \n3     2.498620e+08                       0.000000     1.838676e+08   \n4     2.498620e+08                       0.000000     1.724187e+08   \n5     1.996926e+08                       0.002185     1.761376e+08   \n6     1.657286e+08                       0.000000     1.761376e+08   \n7     1.657286e+08                       0.000000     1.761376e+08   \n8     1.657286e+08                       0.000000     1.761376e+08   \n9     1.739358e+08                       0.000693     1.761376e+08   \n\n   A.2_Expected Number of Deaths  A.3 Total Costs  \\\n0                       0.083953     1.154651e+08   \n1                       0.000333     1.154651e+08   \n2                       0.002107     1.154651e+08   \n3                       0.021497     1.154651e+08   \n4                       0.006954     1.154651e+08   \n5                       0.000000     6.662956e+07   \n6                       0.000000     6.662956e+07   \n7                       0.000000     6.662956e+07   \n8                       0.000000     6.662956e+07   \n9                       0.000000     6.662956e+07   \n\n   A.3_Expected Number of Deaths  A.4 Total Costs  \\\n0                            0.0     4.161764e+07   \n1                            0.0     4.161764e+07   \n2                            0.0     4.161764e+07   \n3                            0.0     4.161764e+07   \n4                            0.0     4.161764e+07   \n5                            0.0     4.725625e+07   \n6                            0.0     4.725625e+07   \n7                            0.0     4.725625e+07   \n8                            0.0     4.725625e+07   \n9                            0.0     4.725625e+07   \n\n   A.4_Expected Number of Deaths  A.5 Total Costs  \\\n0                            0.0     9.469810e+07   \n1                            0.0     2.128928e+08   \n2                            0.0     1.041638e+08   \n3                            0.0     1.021599e+08   \n4                            0.0     1.517549e+08   \n5                            0.0     1.573942e+08   \n6                            0.0     1.573942e+08   \n7                            0.0     1.573942e+08   \n8                            0.0     1.573942e+08   \n9                            0.0     1.573942e+08   \n\n   A.5_Expected Number of Deaths  RfR Total Costs  Expected Evacuation Costs  \n0                       0.000000     1.571300e+09                   0.000000  \n1                       0.140463     1.571300e+09                   0.000000  \n2                       0.008454     1.571300e+09                   0.000000  \n3                       0.005204     1.571300e+09                   0.000000  \n4                       0.051866     1.571300e+09                   0.000000  \n5                       0.000000     5.599000e+08                 481.469746  \n6                       0.000000     5.599000e+08                   0.000000  \n7                       0.000000     5.599000e+08                   0.000000  \n8                       0.000000     5.599000e+08                   0.000000  \n9                       0.000000     5.599000e+08                 165.478433  ",
      "text/html": "<div>\n<style scoped>\n    .dataframe tbody tr th:only-of-type {\n        vertical-align: middle;\n    }\n\n    .dataframe tbody tr th {\n        vertical-align: top;\n    }\n\n    .dataframe thead th {\n        text-align: right;\n    }\n</style>\n<table border=\"1\" class=\"dataframe\">\n  <thead>\n    <tr style=\"text-align: right;\">\n      <th></th>\n      <th>A.1 Total Costs</th>\n      <th>A.1_Expected Number of Deaths</th>\n      <th>A.2 Total Costs</th>\n      <th>A.2_Expected Number of Deaths</th>\n      <th>A.3 Total Costs</th>\n      <th>A.3_Expected Number of Deaths</th>\n      <th>A.4 Total Costs</th>\n      <th>A.4_Expected Number of Deaths</th>\n      <th>A.5 Total Costs</th>\n      <th>A.5_Expected Number of Deaths</th>\n      <th>RfR Total Costs</th>\n      <th>Expected Evacuation Costs</th>\n    </tr>\n  </thead>\n  <tbody>\n    <tr>\n      <th>0</th>\n      <td>2.498620e+08</td>\n      <td>0.000000</td>\n      <td>2.902942e+08</td>\n      <td>0.083953</td>\n      <td>1.154651e+08</td>\n      <td>0.0</td>\n      <td>4.161764e+07</td>\n      <td>0.0</td>\n      <td>9.469810e+07</td>\n      <td>0.000000</td>\n      <td>1.571300e+09</td>\n      <td>0.000000</td>\n    </tr>\n    <tr>\n      <th>1</th>\n      <td>2.498620e+08</td>\n      <td>0.000000</td>\n      <td>1.651899e+08</td>\n      <td>0.000333</td>\n      <td>1.154651e+08</td>\n      <td>0.0</td>\n      <td>4.161764e+07</td>\n      <td>0.0</td>\n      <td>2.128928e+08</td>\n      <td>0.140463</td>\n      <td>1.571300e+09</td>\n      <td>0.000000</td>\n    </tr>\n    <tr>\n      <th>2</th>\n      <td>2.498620e+08</td>\n      <td>0.000000</td>\n      <td>1.671835e+08</td>\n      <td>0.002107</td>\n      <td>1.154651e+08</td>\n      <td>0.0</td>\n      <td>4.161764e+07</td>\n      <td>0.0</td>\n      <td>1.041638e+08</td>\n      <td>0.008454</td>\n      <td>1.571300e+09</td>\n      <td>0.000000</td>\n    </tr>\n    <tr>\n      <th>3</th>\n      <td>2.498620e+08</td>\n      <td>0.000000</td>\n      <td>1.838676e+08</td>\n      <td>0.021497</td>\n      <td>1.154651e+08</td>\n      <td>0.0</td>\n      <td>4.161764e+07</td>\n      <td>0.0</td>\n      <td>1.021599e+08</td>\n      <td>0.005204</td>\n      <td>1.571300e+09</td>\n      <td>0.000000</td>\n    </tr>\n    <tr>\n      <th>4</th>\n      <td>2.498620e+08</td>\n      <td>0.000000</td>\n      <td>1.724187e+08</td>\n      <td>0.006954</td>\n      <td>1.154651e+08</td>\n      <td>0.0</td>\n      <td>4.161764e+07</td>\n      <td>0.0</td>\n      <td>1.517549e+08</td>\n      <td>0.051866</td>\n      <td>1.571300e+09</td>\n      <td>0.000000</td>\n    </tr>\n    <tr>\n      <th>5</th>\n      <td>1.996926e+08</td>\n      <td>0.002185</td>\n      <td>1.761376e+08</td>\n      <td>0.000000</td>\n      <td>6.662956e+07</td>\n      <td>0.0</td>\n      <td>4.725625e+07</td>\n      <td>0.0</td>\n      <td>1.573942e+08</td>\n      <td>0.000000</td>\n      <td>5.599000e+08</td>\n      <td>481.469746</td>\n    </tr>\n    <tr>\n      <th>6</th>\n      <td>1.657286e+08</td>\n      <td>0.000000</td>\n      <td>1.761376e+08</td>\n      <td>0.000000</td>\n      <td>6.662956e+07</td>\n      <td>0.0</td>\n      <td>4.725625e+07</td>\n      <td>0.0</td>\n      <td>1.573942e+08</td>\n      <td>0.000000</td>\n      <td>5.599000e+08</td>\n      <td>0.000000</td>\n    </tr>\n    <tr>\n      <th>7</th>\n      <td>1.657286e+08</td>\n      <td>0.000000</td>\n      <td>1.761376e+08</td>\n      <td>0.000000</td>\n      <td>6.662956e+07</td>\n      <td>0.0</td>\n      <td>4.725625e+07</td>\n      <td>0.0</td>\n      <td>1.573942e+08</td>\n      <td>0.000000</td>\n      <td>5.599000e+08</td>\n      <td>0.000000</td>\n    </tr>\n    <tr>\n      <th>8</th>\n      <td>1.657286e+08</td>\n      <td>0.000000</td>\n      <td>1.761376e+08</td>\n      <td>0.000000</td>\n      <td>6.662956e+07</td>\n      <td>0.0</td>\n      <td>4.725625e+07</td>\n      <td>0.0</td>\n      <td>1.573942e+08</td>\n      <td>0.000000</td>\n      <td>5.599000e+08</td>\n      <td>0.000000</td>\n    </tr>\n    <tr>\n      <th>9</th>\n      <td>1.739358e+08</td>\n      <td>0.000693</td>\n      <td>1.761376e+08</td>\n      <td>0.000000</td>\n      <td>6.662956e+07</td>\n      <td>0.0</td>\n      <td>4.725625e+07</td>\n      <td>0.0</td>\n      <td>1.573942e+08</td>\n      <td>0.000000</td>\n      <td>5.599000e+08</td>\n      <td>165.478433</td>\n    </tr>\n  </tbody>\n</table>\n</div>"
     },
     "execution_count": 12,
     "metadata": {},
     "output_type": "execute_result"
    }
   ],
   "source": [
    "# only works because we have scalar outcomes\n",
    "pd.DataFrame(outcomes)"
   ]
  },
  {
   "cell_type": "code",
   "execution_count": 13,
   "metadata": {
    "ExecuteTime": {
     "end_time": "2024-05-28T09:16:44.703663100Z",
     "start_time": "2024-05-28T09:16:44.570754Z"
    }
   },
   "outputs": [],
   "source": [
    "# defining specific policies\n",
    "# for example, policy 1 is about extra protection in upper boundary\n",
    "# policy 2 is about extra protection in lower boundary\n",
    "# policy 3 is extra protection in random locations\n",
    "\n",
    "\n",
    "def get_do_nothing_dict():\n",
    "    return {l.name: 0 for l in dike_model.levers}\n",
    "\n",
    "\n",
    "policies = [\n",
    "    Policy(\n",
    "        \"policy 1\",\n",
    "        **dict(\n",
    "            get_do_nothing_dict(),\n",
    "            **{\"0_RfR 0\": 1, \"0_RfR 1\": 1, \"0_RfR 2\": 1, \"A.1_DikeIncrease 0\": 5}\n",
    "        )\n",
    "    ),\n",
    "    Policy(\n",
    "        \"policy 2\",\n",
    "        **dict(\n",
    "            get_do_nothing_dict(),\n",
    "            **{\"4_RfR 0\": 1, \"4_RfR 1\": 1, \"4_RfR 2\": 1, \"A.5_DikeIncrease 0\": 5}\n",
    "        )\n",
    "    ),\n",
    "    Policy(\n",
    "        \"policy 3\",\n",
    "        **dict(\n",
    "            get_do_nothing_dict(),\n",
    "            **{\"1_RfR 0\": 1, \"2_RfR 1\": 1, \"3_RfR 2\": 1, \"A.3_DikeIncrease 0\": 5}\n",
    "        )\n",
    "    ),\n",
    "]"
   ]
  },
  {
   "cell_type": "code",
   "execution_count": 14,
   "metadata": {
    "ExecuteTime": {
     "end_time": "2024-05-28T09:17:08.700944800Z",
     "start_time": "2024-05-28T09:16:44.589107Z"
    }
   },
   "outputs": [
    {
     "name": "stderr",
     "output_type": "stream",
     "text": [
      "[MainProcess/INFO] performing 5 scenarios * 3 policies * 1 model(s) = 15 experiments\n",
      "  0%|                                                   | 0/15 [00:00<?, ?it/s][MainProcess/INFO] performing experiments sequentially\n",
      "100%|██████████████████████████████████████████| 15/15 [00:23<00:00,  1.59s/it]\n",
      "[MainProcess/INFO] experiments finished\n"
     ]
    }
   ],
   "source": [
    "# pass the policies list to EMA workbench experiment runs\n",
    "n_scenarios = 5\n",
    "with SequentialEvaluator(dike_model) as evaluator:\n",
    "    results = evaluator.perform_experiments(n_scenarios, policies)"
   ]
  },
  {
   "cell_type": "code",
   "execution_count": 15,
   "metadata": {
    "ExecuteTime": {
     "end_time": "2024-05-28T09:17:08.718209400Z",
     "start_time": "2024-05-28T09:17:08.705982600Z"
    }
   },
   "outputs": [],
   "source": [
    "experiments, outcomes = results"
   ]
  },
  {
   "cell_type": "code",
   "execution_count": 16,
   "metadata": {
    "ExecuteTime": {
     "end_time": "2024-05-28T09:17:09.023750400Z",
     "start_time": "2024-05-28T09:17:08.716145200Z"
    }
   },
   "outputs": [
    {
     "data": {
      "text/plain": "    A.1 Total Costs  A.1_Expected Number of Deaths  A.2 Total Costs  \\\n0      5.397251e+07                       0.000000     4.983123e+08   \n1      5.397251e+07                       0.000000     4.851291e+07   \n2      5.397251e+07                       0.000000     3.987621e+07   \n3      5.397251e+07                       0.000000     6.553290e+06   \n4      5.397251e+07                       0.000000     1.990611e+08   \n5      3.026203e+09                       1.613626     3.108863e+08   \n6      2.320381e+09                       1.620196     0.000000e+00   \n7      0.000000e+00                       0.000000     3.987621e+07   \n8      1.243053e+08                       0.088805     0.000000e+00   \n9      2.681389e+07                       0.017448     1.990553e+08   \n10     2.608965e+09                       1.335676     2.064579e+08   \n11     4.569290e+07                       0.031411     2.888278e+07   \n12     0.000000e+00                       0.000000     2.392834e+07   \n13     0.000000e+00                       0.000000     6.439396e+06   \n14     0.000000e+00                       0.000000     1.149687e+08   \n\n    A.2_Expected Number of Deaths  A.3 Total Costs  \\\n0                        0.360969     2.280094e+08   \n1                        0.049148     1.646241e+09   \n2                        0.049632     2.302763e+07   \n3                        0.006572     1.344130e+08   \n4                        0.164487     0.000000e+00   \n5                        0.225326     1.409425e+07   \n6                        0.000000     8.409696e+08   \n7                        0.049632     2.273520e+07   \n8                        0.000000     9.691208e+07   \n9                        0.164477     0.000000e+00   \n10                       0.149110     2.879840e+07   \n11                       0.028961     2.879840e+07   \n12                       0.029704     2.879840e+07   \n13                       0.006357     2.879840e+07   \n14                       0.094886     2.879840e+07   \n\n    A.3_Expected Number of Deaths  A.4 Total Costs  \\\n0                        0.321195     8.409885e+07   \n1                        2.939651     0.000000e+00   \n2                        0.054392     0.000000e+00   \n3                        0.244043     5.074366e+07   \n4                        0.000000     0.000000e+00   \n5                        0.019873     8.003421e+06   \n6                        1.434505     0.000000e+00   \n7                        0.053493     0.000000e+00   \n8                        0.174950     6.495754e+06   \n9                        0.000000     0.000000e+00   \n10                       0.000000     6.144016e+07   \n11                       0.000000     1.210610e+07   \n12                       0.000000     0.000000e+00   \n13                       0.000000     4.128652e+07   \n14                       0.000000     0.000000e+00   \n\n    A.4_Expected Number of Deaths  A.5 Total Costs  \\\n0                        0.029550     0.000000e+00   \n1                        0.000000     0.000000e+00   \n2                        0.000000     6.918265e+07   \n3                        0.023724     9.195648e+08   \n4                        0.000000     0.000000e+00   \n5                        0.002700     3.667668e+07   \n6                        0.000000     3.667668e+07   \n7                        0.000000     3.667668e+07   \n8                        0.002959     7.216452e+07   \n9                        0.000000     3.667668e+07   \n10                       0.021502     0.000000e+00   \n11                       0.006320     7.660634e+07   \n12                       0.000000     2.133093e+07   \n13                       0.019597     4.873653e+08   \n14                       0.000000     0.000000e+00   \n\n    A.5_Expected Number of Deaths  RfR Total Costs  Expected Evacuation Costs  \n0                        0.000000      253800000.0                        0.0  \n1                        0.000000      253800000.0                        0.0  \n2                        0.081842      253800000.0                        0.0  \n3                        0.796319      253800000.0                        0.0  \n4                        0.000000      253800000.0                        0.0  \n5                        0.000000      768300000.0                        0.0  \n6                        0.000000      768300000.0                        0.0  \n7                        0.000000      768300000.0                        0.0  \n8                        0.032627      768300000.0                        0.0  \n9                        0.000000      768300000.0                        0.0  \n10                       0.000000      369700000.0                        0.0  \n11                       0.072840      369700000.0                        0.0  \n12                       0.025155      369700000.0                        0.0  \n13                       0.421865      369700000.0                        0.0  \n14                       0.000000      369700000.0                        0.0  ",
      "text/html": "<div>\n<style scoped>\n    .dataframe tbody tr th:only-of-type {\n        vertical-align: middle;\n    }\n\n    .dataframe tbody tr th {\n        vertical-align: top;\n    }\n\n    .dataframe thead th {\n        text-align: right;\n    }\n</style>\n<table border=\"1\" class=\"dataframe\">\n  <thead>\n    <tr style=\"text-align: right;\">\n      <th></th>\n      <th>A.1 Total Costs</th>\n      <th>A.1_Expected Number of Deaths</th>\n      <th>A.2 Total Costs</th>\n      <th>A.2_Expected Number of Deaths</th>\n      <th>A.3 Total Costs</th>\n      <th>A.3_Expected Number of Deaths</th>\n      <th>A.4 Total Costs</th>\n      <th>A.4_Expected Number of Deaths</th>\n      <th>A.5 Total Costs</th>\n      <th>A.5_Expected Number of Deaths</th>\n      <th>RfR Total Costs</th>\n      <th>Expected Evacuation Costs</th>\n    </tr>\n  </thead>\n  <tbody>\n    <tr>\n      <th>0</th>\n      <td>5.397251e+07</td>\n      <td>0.000000</td>\n      <td>4.983123e+08</td>\n      <td>0.360969</td>\n      <td>2.280094e+08</td>\n      <td>0.321195</td>\n      <td>8.409885e+07</td>\n      <td>0.029550</td>\n      <td>0.000000e+00</td>\n      <td>0.000000</td>\n      <td>253800000.0</td>\n      <td>0.0</td>\n    </tr>\n    <tr>\n      <th>1</th>\n      <td>5.397251e+07</td>\n      <td>0.000000</td>\n      <td>4.851291e+07</td>\n      <td>0.049148</td>\n      <td>1.646241e+09</td>\n      <td>2.939651</td>\n      <td>0.000000e+00</td>\n      <td>0.000000</td>\n      <td>0.000000e+00</td>\n      <td>0.000000</td>\n      <td>253800000.0</td>\n      <td>0.0</td>\n    </tr>\n    <tr>\n      <th>2</th>\n      <td>5.397251e+07</td>\n      <td>0.000000</td>\n      <td>3.987621e+07</td>\n      <td>0.049632</td>\n      <td>2.302763e+07</td>\n      <td>0.054392</td>\n      <td>0.000000e+00</td>\n      <td>0.000000</td>\n      <td>6.918265e+07</td>\n      <td>0.081842</td>\n      <td>253800000.0</td>\n      <td>0.0</td>\n    </tr>\n    <tr>\n      <th>3</th>\n      <td>5.397251e+07</td>\n      <td>0.000000</td>\n      <td>6.553290e+06</td>\n      <td>0.006572</td>\n      <td>1.344130e+08</td>\n      <td>0.244043</td>\n      <td>5.074366e+07</td>\n      <td>0.023724</td>\n      <td>9.195648e+08</td>\n      <td>0.796319</td>\n      <td>253800000.0</td>\n      <td>0.0</td>\n    </tr>\n    <tr>\n      <th>4</th>\n      <td>5.397251e+07</td>\n      <td>0.000000</td>\n      <td>1.990611e+08</td>\n      <td>0.164487</td>\n      <td>0.000000e+00</td>\n      <td>0.000000</td>\n      <td>0.000000e+00</td>\n      <td>0.000000</td>\n      <td>0.000000e+00</td>\n      <td>0.000000</td>\n      <td>253800000.0</td>\n      <td>0.0</td>\n    </tr>\n    <tr>\n      <th>5</th>\n      <td>3.026203e+09</td>\n      <td>1.613626</td>\n      <td>3.108863e+08</td>\n      <td>0.225326</td>\n      <td>1.409425e+07</td>\n      <td>0.019873</td>\n      <td>8.003421e+06</td>\n      <td>0.002700</td>\n      <td>3.667668e+07</td>\n      <td>0.000000</td>\n      <td>768300000.0</td>\n      <td>0.0</td>\n    </tr>\n    <tr>\n      <th>6</th>\n      <td>2.320381e+09</td>\n      <td>1.620196</td>\n      <td>0.000000e+00</td>\n      <td>0.000000</td>\n      <td>8.409696e+08</td>\n      <td>1.434505</td>\n      <td>0.000000e+00</td>\n      <td>0.000000</td>\n      <td>3.667668e+07</td>\n      <td>0.000000</td>\n      <td>768300000.0</td>\n      <td>0.0</td>\n    </tr>\n    <tr>\n      <th>7</th>\n      <td>0.000000e+00</td>\n      <td>0.000000</td>\n      <td>3.987621e+07</td>\n      <td>0.049632</td>\n      <td>2.273520e+07</td>\n      <td>0.053493</td>\n      <td>0.000000e+00</td>\n      <td>0.000000</td>\n      <td>3.667668e+07</td>\n      <td>0.000000</td>\n      <td>768300000.0</td>\n      <td>0.0</td>\n    </tr>\n    <tr>\n      <th>8</th>\n      <td>1.243053e+08</td>\n      <td>0.088805</td>\n      <td>0.000000e+00</td>\n      <td>0.000000</td>\n      <td>9.691208e+07</td>\n      <td>0.174950</td>\n      <td>6.495754e+06</td>\n      <td>0.002959</td>\n      <td>7.216452e+07</td>\n      <td>0.032627</td>\n      <td>768300000.0</td>\n      <td>0.0</td>\n    </tr>\n    <tr>\n      <th>9</th>\n      <td>2.681389e+07</td>\n      <td>0.017448</td>\n      <td>1.990553e+08</td>\n      <td>0.164477</td>\n      <td>0.000000e+00</td>\n      <td>0.000000</td>\n      <td>0.000000e+00</td>\n      <td>0.000000</td>\n      <td>3.667668e+07</td>\n      <td>0.000000</td>\n      <td>768300000.0</td>\n      <td>0.0</td>\n    </tr>\n    <tr>\n      <th>10</th>\n      <td>2.608965e+09</td>\n      <td>1.335676</td>\n      <td>2.064579e+08</td>\n      <td>0.149110</td>\n      <td>2.879840e+07</td>\n      <td>0.000000</td>\n      <td>6.144016e+07</td>\n      <td>0.021502</td>\n      <td>0.000000e+00</td>\n      <td>0.000000</td>\n      <td>369700000.0</td>\n      <td>0.0</td>\n    </tr>\n    <tr>\n      <th>11</th>\n      <td>4.569290e+07</td>\n      <td>0.031411</td>\n      <td>2.888278e+07</td>\n      <td>0.028961</td>\n      <td>2.879840e+07</td>\n      <td>0.000000</td>\n      <td>1.210610e+07</td>\n      <td>0.006320</td>\n      <td>7.660634e+07</td>\n      <td>0.072840</td>\n      <td>369700000.0</td>\n      <td>0.0</td>\n    </tr>\n    <tr>\n      <th>12</th>\n      <td>0.000000e+00</td>\n      <td>0.000000</td>\n      <td>2.392834e+07</td>\n      <td>0.029704</td>\n      <td>2.879840e+07</td>\n      <td>0.000000</td>\n      <td>0.000000e+00</td>\n      <td>0.000000</td>\n      <td>2.133093e+07</td>\n      <td>0.025155</td>\n      <td>369700000.0</td>\n      <td>0.0</td>\n    </tr>\n    <tr>\n      <th>13</th>\n      <td>0.000000e+00</td>\n      <td>0.000000</td>\n      <td>6.439396e+06</td>\n      <td>0.006357</td>\n      <td>2.879840e+07</td>\n      <td>0.000000</td>\n      <td>4.128652e+07</td>\n      <td>0.019597</td>\n      <td>4.873653e+08</td>\n      <td>0.421865</td>\n      <td>369700000.0</td>\n      <td>0.0</td>\n    </tr>\n    <tr>\n      <th>14</th>\n      <td>0.000000e+00</td>\n      <td>0.000000</td>\n      <td>1.149687e+08</td>\n      <td>0.094886</td>\n      <td>2.879840e+07</td>\n      <td>0.000000</td>\n      <td>0.000000e+00</td>\n      <td>0.000000</td>\n      <td>0.000000e+00</td>\n      <td>0.000000</td>\n      <td>369700000.0</td>\n      <td>0.0</td>\n    </tr>\n  </tbody>\n</table>\n</div>"
     },
     "execution_count": 16,
     "metadata": {},
     "output_type": "execute_result"
    }
   ],
   "source": [
    "# only works because we have scalar outcomes\n",
    "pd.DataFrame(outcomes)"
   ]
  },
  {
   "cell_type": "code",
   "execution_count": 18,
   "metadata": {
    "pycharm": {
     "name": "#%%"
    },
    "ExecuteTime": {
     "end_time": "2024-05-28T09:17:33.464912600Z",
     "start_time": "2024-05-28T09:17:33.404384800Z"
    }
   },
   "outputs": [
    {
     "name": "stdout",
     "output_type": "stream",
     "text": [
      "Index(['A.0_ID flood wave shape', 'A.1_Bmax', 'A.1_Brate', 'A.1_pfail',\n",
      "       'A.2_Bmax', 'A.2_Brate', 'A.2_pfail', 'A.3_Bmax', 'A.3_Brate',\n",
      "       'A.3_pfail', 'A.4_Bmax', 'A.4_Brate', 'A.4_pfail', 'A.5_Bmax',\n",
      "       'A.5_Brate', 'A.5_pfail', 'discount rate 0', 'discount rate 1',\n",
      "       'discount rate 2', '0_RfR 0', '0_RfR 1', '0_RfR 2', '1_RfR 0',\n",
      "       '1_RfR 1', '1_RfR 2', '2_RfR 0', '2_RfR 1', '2_RfR 2', '3_RfR 0',\n",
      "       '3_RfR 1', '3_RfR 2', '4_RfR 0', '4_RfR 1', '4_RfR 2',\n",
      "       'EWS_DaysToThreat', 'A.1_DikeIncrease 0', 'A.1_DikeIncrease 1',\n",
      "       'A.1_DikeIncrease 2', 'A.2_DikeIncrease 0', 'A.2_DikeIncrease 1',\n",
      "       'A.2_DikeIncrease 2', 'A.3_DikeIncrease 0', 'A.3_DikeIncrease 1',\n",
      "       'A.3_DikeIncrease 2', 'A.4_DikeIncrease 0', 'A.4_DikeIncrease 1',\n",
      "       'A.4_DikeIncrease 2', 'A.5_DikeIncrease 0', 'A.5_DikeIncrease 1',\n",
      "       'A.5_DikeIncrease 2', 'scenario', 'policy', 'model'],\n",
      "      dtype='object')\n"
     ]
    }
   ],
   "source": [
    "print(experiments.columns)"
   ]
  },
  {
   "cell_type": "code",
   "outputs": [
    {
     "ename": "AttributeError",
     "evalue": "'dict' object has no attribute 'columns'",
     "output_type": "error",
     "traceback": [
      "\u001B[1;31m---------------------------------------------------------------------------\u001B[0m",
      "\u001B[1;31mAttributeError\u001B[0m                            Traceback (most recent call last)",
      "Cell \u001B[1;32mIn[19], line 1\u001B[0m\n\u001B[1;32m----> 1\u001B[0m \u001B[38;5;28mprint\u001B[39m(\u001B[43moutcomes\u001B[49m\u001B[38;5;241;43m.\u001B[39;49m\u001B[43mcolumns\u001B[49m)\n",
      "\u001B[1;31mAttributeError\u001B[0m: 'dict' object has no attribute 'columns'"
     ]
    }
   ],
   "source": [
    "print(outcomes.columns)\n"
   ],
   "metadata": {
    "collapsed": false,
    "ExecuteTime": {
     "end_time": "2024-05-28T09:17:35.943715900Z",
     "start_time": "2024-05-28T09:17:35.883027200Z"
    }
   },
   "execution_count": 19
  },
  {
   "cell_type": "code",
   "outputs": [],
   "source": [],
   "metadata": {
    "collapsed": false
   }
  }
 ],
 "metadata": {
  "kernelspec": {
   "display_name": "Python 3 (ipykernel)",
   "language": "python",
   "name": "python3"
  },
  "language_info": {
   "codemirror_mode": {
    "name": "ipython",
    "version": 3
   },
   "file_extension": ".py",
   "mimetype": "text/x-python",
   "name": "python",
   "nbconvert_exporter": "python",
   "pygments_lexer": "ipython3",
   "version": "3.9.16"
  }
 },
 "nbformat": 4,
 "nbformat_minor": 4
}
